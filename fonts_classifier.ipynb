{
 "cells": [
  {
   "cell_type": "markdown",
   "metadata": {},
   "source": [
    "### Data generator"
   ]
  },
  {
   "cell_type": "markdown",
   "metadata": {},
   "source": [
    "For selected font, script will generate each of above character (a-z, A-Z, 0-9) at nine different position to move text by one pixel in right-left and top-bottom direction. \n",
    "\n",
    "#### NOTE: If you want generate some new data use kernel == python2, because ttfquery can cause problems at python3\n",
    "Also you can use generated images from Synthetic_dataset"
   ]
  },
  {
   "cell_type": "markdown",
   "metadata": {},
   "source": [
    "#### Imports"
   ]
  },
  {
   "cell_type": "code",
   "execution_count": null,
   "metadata": {
    "collapsed": true
   },
   "outputs": [],
   "source": [
    "from PIL import Image, ImageDraw, ImageFont\n",
    "import ttfquery.findsystem \n",
    "import string\n",
    "import ntpath\n",
    "import numpy as np\n",
    "import os\n",
    "import glob"
   ]
  },
  {
   "cell_type": "markdown",
   "metadata": {},
   "source": [
    "### Generator"
   ]
  },
  {
   "cell_type": "markdown",
   "metadata": {},
   "source": [
    "Input params:\n",
    "\n",
    "    fontSize\n",
    "    imgSize\n",
    "    position\n",
    "    font_list - list of fonts which will be used"
   ]
  },
  {
   "cell_type": "code",
   "execution_count": null,
   "metadata": {
    "collapsed": true
   },
   "outputs": [],
   "source": [
    "#parameters of font and picture\n",
    "fontSize = 20\n",
    "imgSize = (28,28)\n",
    "position = (0,0)\n",
    "\n",
    "#fonts which will be used\n",
    "fonts_list = ['Arial', 'Verdana', 'Comic_Sans_MS', 'Courier_New', 'Times_New_Roman', 'Impact', 'Georgia', 'Trebuc', \\\n",
    "             'Andalemo', 'Lato-Regular']\n",
    "fonts_list.sort()\n",
    "total_fonts = len(fonts_list)\n",
    "\n",
    "#all images will be stored in 'Synthetic_dataset' directory under current directory\n",
    "dataset_path = os.path.join (os.getcwd(), 'Synthetic_dataset')\n",
    "if not os.path.exists(dataset_path):\n",
    "    os.makedirs(dataset_path)\n",
    "\n",
    "#creating character list\n",
    "#it can contains lower case chars, upper case chars and digits\n",
    "fhandle = open('Fonts_list.txt', 'r')\n",
    "lower_case_list = list(string.ascii_lowercase)\n",
    "upper_case_list = list(string.ascii_uppercase)\n",
    "digits = range(0,10)\n",
    "digits_list=[str(i) for i in digits]\n",
    "all_char_list = lower_case_list + upper_case_list + digits_list\n",
    "\n",
    "#path to ubuntu fonts\n",
    "#all_fonts = glob.glob(\"/usr/share/fonts/truetype/msttcorefonts/*.ttf\")\n",
    "all_fonts = ttfquery.findsystem.findFonts()\n",
    "f_flag = np.zeros(total_fonts)\n",
    "\n",
    "for sys_font in all_fonts:\n",
    "    font_file = ntpath.basename(sys_font)\n",
    "    font_file = font_file.rsplit('.')\n",
    "    font_file = font_file[0]\n",
    "    f_idx = 0\n",
    "    for font in fonts_list: #use fonts from list\n",
    "        f_lower = font.lower()\n",
    "        s_lower = sys_font.lower()\n",
    "        #check desired font \n",
    "        #use only regular style\n",
    "        if f_lower in s_lower and 'bold' not in s_lower and 'italic' not in s_lower:\n",
    "            #if commented, data will contain all styles of each font\n",
    "            fonts_list.remove(font)\n",
    "            path = sys_font\n",
    "            font = ImageFont.truetype(path, fontSize)\n",
    "            f_flag[f_idx] = 1\n",
    "            for ch in all_char_list:\n",
    "                image = Image.new(\"RGB\", imgSize, (255,255,255))\n",
    "                draw = ImageDraw.Draw(image)\n",
    "                pos_x = 0\n",
    "                pos_y = 0\n",
    "                pos_idx=0\n",
    "                for y in [pos_y-1, pos_y, pos_y+1]:\n",
    "                    for x in [pos_x-1, pos_x, pos_x+1]:\n",
    "                        position = (x,y)\n",
    "                        draw.text(position, ch, (0,0,0), font=font)\n",
    "                        ##without this flag, it creates 'Calibri_a.jpg' even for 'Calibri_A.jpg'\n",
    "                        ##which overwrites lowercase images\n",
    "                        l_u_d_flag = \"u\"\n",
    "                        if ch.islower():\n",
    "                            l_u_d_flag = \"l\"\n",
    "                        elif ch.isdigit():\n",
    "                            l_u_d_flag = \"d\"\n",
    "                        file_name = str(pos_idx) + '_' + font_file + '_' + l_u_d_flag + '_' + ch + '.jpg'\n",
    "                        file_name = os.path.join(dataset_path,file_name)\n",
    "                        image.save(file_name)\n",
    "                        pos_idx = pos_idx + 1\n",
    "        f_idx = f_idx + 1"
   ]
  },
  {
   "cell_type": "markdown",
   "metadata": {},
   "source": [
    "### Data preparation"
   ]
  },
  {
   "cell_type": "markdown",
   "metadata": {},
   "source": [
    "Here python3 is recommended"
   ]
  },
  {
   "cell_type": "markdown",
   "metadata": {},
   "source": [
    "#### Imports"
   ]
  },
  {
   "cell_type": "code",
   "execution_count": 1,
   "metadata": {},
   "outputs": [
    {
     "name": "stderr",
     "output_type": "stream",
     "text": [
      "Using TensorFlow backend.\n"
     ]
    }
   ],
   "source": [
    "import numpy as np\n",
    "import keras\n",
    "import tensorflow as tf\n",
    "import os\n",
    "from keras.layers import Dense, Activation, Dropout, Flatten\n",
    "from keras.models import Sequential\n",
    "from keras.layers.normalization import BatchNormalization \n",
    "from keras.layers import Conv2D, MaxPooling1D, ActivityRegularization, MaxPooling2D\n",
    "from sklearn.model_selection import train_test_split\n",
    "from keras.preprocessing.image import load_img, img_to_array, ImageDataGenerator\n",
    "import matplotlib.pyplot as plt\n",
    "%matplotlib inline"
   ]
  },
  {
   "cell_type": "markdown",
   "metadata": {},
   "source": [
    "### Read data"
   ]
  },
  {
   "cell_type": "code",
   "execution_count": 2,
   "metadata": {
    "collapsed": true
   },
   "outputs": [],
   "source": [
    "fonts_list = ['Arial', 'Verdana', 'Comic_Sans_MS', 'Courier_New', 'Times_New_Roman', 'Impact', 'Georgia', 'Trebuc', \\\n",
    "             'Andalemo', 'Lato-Regular']\n",
    "fonts_list.sort()\n",
    "\n",
    "dirName = './Synthetic_dataset/'\n",
    "pics = os.listdir(dirName)\n",
    "imgGen = ImageDataGenerator()\n",
    "fullnames = []\n",
    "xnames = []\n",
    "\n",
    "def data_read(postion='0'):\n",
    "    \"\"\"\n",
    "    position is pixel from char starts\n",
    "    \"\"\"\n",
    "    y = []\n",
    "    X = []\n",
    "    for name in pics:\n",
    "        if name[0] == postion: # for only 1 usage of each font with \"0\" position\n",
    "            for i in range(len(fonts_list)):\n",
    "                #creating labels for fonts\n",
    "                font_i_lower = fonts_list[i].lower()\n",
    "                name_lower = name.lower()\n",
    "                if font_i_lower in name_lower:\n",
    "                    y_cur = i\n",
    "                    y.append(y_cur)\n",
    "                    fullname = os.path.join(dirName,name)\n",
    "                    if os.path.isfile(fullname):\n",
    "                        fullnames.append(fullname)\n",
    "                    #loading picture and converting to array\n",
    "                    img = load_img(fullname, color_mode='grayscale')\n",
    "                    #imgGen.standardize(img)\n",
    "                    x = img_to_array(img)\n",
    "                    X.append(x)\n",
    "                    xnames.append(name)\n",
    "\n",
    "    y = np.asarray(y)\n",
    "    X = np.asarray(X)\n",
    "    \n",
    "    return X, y\n",
    "X, y = data_read(postion='0')"
   ]
  },
  {
   "cell_type": "markdown",
   "metadata": {},
   "source": [
    "#### Split data to train, validation and test\n",
    "    Train data is 70% of images\n",
    "    Validation data is 15% \n",
    "    Test data is 15%\n",
    "    \n",
    "Also, its not necessary to create validation set, keras can create it from train data, but here it was done"
   ]
  },
  {
   "cell_type": "code",
   "execution_count": 3,
   "metadata": {},
   "outputs": [
    {
     "name": "stdout",
     "output_type": "stream",
     "text": [
      "train_shape (434, 28, 28, 1) \n",
      "val_shape (93, 28, 28, 1) \n",
      "test_shape (93, 28, 28, 1)\n"
     ]
    }
   ],
   "source": [
    "y_oh = keras.utils.to_categorical(y)\n",
    "X_train, X_test, y_train, y_test = train_test_split(X, y_oh, test_size=0.3, random_state=42, shuffle=True)\n",
    "X_val, X_test, y_val, y_test = train_test_split(X_test, y_test, test_size=0.5, random_state=42, shuffle=True)\n",
    "print('train_shape', X_train.shape, '\\nval_shape', X_val.shape, '\\ntest_shape', X_test.shape)"
   ]
  },
  {
   "cell_type": "markdown",
   "metadata": {},
   "source": [
    "### Model creating"
   ]
  },
  {
   "cell_type": "code",
   "execution_count": 4,
   "metadata": {
    "collapsed": true
   },
   "outputs": [],
   "source": [
    "def create_model(params):\n",
    "    \"\"\"\n",
    "    params -- dict of hyperparamets which will be tuned\n",
    "    \"\"\"\n",
    "    model = Sequential()\n",
    "    model.add(Conv2D(params['conv_filt'], (3, 3), activation='sigmoid', input_shape=IMG_SIZE))\n",
    "    model.add(BatchNormalization())\n",
    "    model.add(MaxPooling2D(pool_size=(2, 2)))\n",
    "    model.add(Dropout(params['dropout_1']))\n",
    "    model.add(BatchNormalization())\n",
    "    model.add(Flatten())\n",
    "    model.add(Dense(params['dense_units'], activation='sigmoid', kernel_initializer='uniform'))\n",
    "    model.add(Dropout(params['dropout_2']))\n",
    "    model.add(ActivityRegularization(l2=params['l2_coef']))\n",
    "    model.add(Dense(10, activation='softmax'))\n",
    "\n",
    "    model.compile(loss='categorical_crossentropy', metrics=['accuracy'], optimizer='adam')\n",
    "    \n",
    "    return model"
   ]
  },
  {
   "cell_type": "markdown",
   "metadata": {},
   "source": [
    "### Datagen for train and valdation"
   ]
  },
  {
   "cell_type": "code",
   "execution_count": 73,
   "metadata": {
    "collapsed": true
   },
   "outputs": [],
   "source": [
    "def datagen(model, batch_size=16, epochs=10, verbose=1, nb_train_samples = 2000, nb_validation_samples = 800):\n",
    "    \"\"\"\n",
    "    creating train/validaton generators for model fitting\n",
    "    \"\"\"\n",
    "    # this is the augmentation configuration we will use for training\n",
    "    train_datagen = ImageDataGenerator(\n",
    "        rescale=1. / 255,\n",
    "        shear_range=0.2,\n",
    "        zoom_range=0.2,\n",
    "        horizontal_flip=False)\n",
    "\n",
    "    # this is the augmentation configuration we will use for testing:\n",
    "    # only rescaling\n",
    "    test_datagen = ImageDataGenerator(rescale=1. / 255,)\n",
    "\n",
    "    train_generator = train_datagen.flow(\n",
    "        x=X_train,\n",
    "        y=y_train,\n",
    "        batch_size=batch_size)\n",
    "\n",
    "    validation_generator = test_datagen.flow(\n",
    "        x=X_val,\n",
    "        y=y_val,\n",
    "        batch_size=batch_size)\n",
    "\n",
    "    history = model.fit_generator(\n",
    "        train_generator,\n",
    "        steps_per_epoch=nb_train_samples // batch_size,\n",
    "        epochs=epochs,\n",
    "        validation_data=validation_generator,\n",
    "        validation_steps=nb_validation_samples // batch_size,\n",
    "        verbose=verbose,\n",
    "        workers=1, #if you want multiprocessing change it\n",
    "        use_multiprocessing=False,)\n",
    "    \n",
    "    return history"
   ]
  },
  {
   "cell_type": "markdown",
   "metadata": {},
   "source": [
    "## Tuning hyperparameters\n",
    "#### First iteration\n",
    "The aim of this iteration is reduce parameters bounds"
   ]
  },
  {
   "cell_type": "markdown",
   "metadata": {},
   "source": [
    "Parameters which will be tuned"
   ]
  },
  {
   "cell_type": "code",
   "execution_count": 99,
   "metadata": {
    "collapsed": true
   },
   "outputs": [],
   "source": [
    "batch_sizes = [10,16,32] #grid search\n",
    "epochs = 50\n",
    "# conv filters and dense units will be randomly generated in [filt_lb,filt_rb] and [unit_lb,unit_lb]\n",
    "filt_b = [4, 128]\n",
    "unit_b = [8, 36]\n",
    "IMG_SIZE = X.shape[1:]\n",
    "# dropout random gen in [0,1]\n",
    "drop_1_b = [0,1]\n",
    "drop_2_b = [0,1]\n",
    "#for random l2 ceoff in [1e-2,1e-4]\n",
    "a = np.log10(1e-4)\n",
    "b = np.log10(1e-1)\n",
    "\n",
    "num_experiments = 20 #for each batch"
   ]
  },
  {
   "cell_type": "markdown",
   "metadata": {},
   "source": [
    "### Tuning process"
   ]
  },
  {
   "cell_type": "code",
   "execution_count": 103,
   "metadata": {},
   "outputs": [
    {
     "name": "stdout",
     "output_type": "stream",
     "text": [
      "0\n",
      "{'conv_filt': 106, 'dropout_1': 0.7965429868602328, 'dense_units': 22, 'dropout_2': 0.7319939418114051, 'l2_coef': 0.0062513735745217472}\n",
      "93/93 [==============================] - 0s 1ms/step\n",
      "train score [2.2427217483037145, 0.17435377975571778] test score [2.0737653586172287, 0.26881720942835652]\n",
      "1\n",
      "{'conv_filt': 48, 'dropout_1': 0.5925732959280999, 'dense_units': 34, 'dropout_2': 0.30936663580329316, 'l2_coef': 0.0027536734491045026}\n",
      "93/93 [==============================] - 0s 1ms/step\n",
      "train score [0.58986672831560472, 0.85554991809776815] test score [0.84643531879109724, 0.7741935522325577]\n",
      "2\n",
      "{'conv_filt': 93, 'dropout_1': 0.9205962353601225, 'dense_units': 20, 'dropout_2': 0.8489032155838712, 'l2_coef': 0.022064734684880266}\n",
      "93/93 [==============================] - 0s 1ms/step\n",
      "train score [2.2990746876339108, 0.11099848170088319] test score [2.321241263420351, 0.09677419499043495]\n",
      "3\n",
      "{'conv_filt': 102, 'dropout_1': 0.6765268096263608, 'dense_units': 32, 'dropout_2': 0.09473870481205793, 'l2_coef': 0.0012263431881108257}\n",
      "93/93 [==============================] - 0s 1ms/step\n",
      "train score [0.40856327342687981, 0.89660414931016463] test score [0.60069576698926186, 0.77419354582345612]\n",
      "4\n",
      "{'conv_filt': 49, 'dropout_1': 0.7007748227435683, 'dense_units': 15, 'dropout_2': 0.6627274765599596, 'l2_coef': 0.0036159479273833563}\n",
      "93/93 [==============================] - 0s 1ms/step\n",
      "train score [1.6983092278619738, 0.42321338715268703] test score [1.088940538706318, 0.7204301113723427]\n",
      "5\n",
      "{'conv_filt': 13, 'dropout_1': 0.9130770670005857, 'dense_units': 34, 'dropout_2': 0.7730972176693037, 'l2_coef': 0.032000139119037284}\n",
      "93/93 [==============================] - 0s 1ms/step\n",
      "train score [2.2990883704193701, 0.11049163924578297] test score [2.3217304163081671, 0.09677419499043495]\n",
      "6\n",
      "{'conv_filt': 99, 'dropout_1': 0.492331291613319, 'dense_units': 34, 'dropout_2': 0.5511140277104924, 'l2_coef': 0.0020431789840330058}\n",
      "93/93 [==============================] - 0s 1ms/step\n",
      "train score [1.0185969966320718, 0.69716168522411837] test score [0.6787198085778503, 0.75268817717029202]\n",
      "7\n",
      "{'conv_filt': 39, 'dropout_1': 0.05986225513206067, 'dense_units': 25, 'dropout_2': 0.2602867727634798, 'l2_coef': 0.010830088124351243}\n",
      "93/93 [==============================] - 0s 1ms/step\n",
      "train score [0.69791172646473221, 0.86087176277742616] test score [1.4730687551600958, 0.73118279569892475]\n",
      "8\n",
      "{'conv_filt': 12, 'dropout_1': 0.5982748248646296, 'dense_units': 19, 'dropout_2': 0.601645756811423, 'l2_coef': 0.0018584858863768706}\n",
      "93/93 [==============================] - 0s 1ms/step\n",
      "train score [1.1441058420736174, 0.60922453617436356] test score [0.4532737175944031, 0.83870967741935487]\n",
      "9\n",
      "{'conv_filt': 53, 'dropout_1': 0.0651649094800204, 'dense_units': 25, 'dropout_2': 0.1474964821160183, 'l2_coef': 0.028215309819192198}\n",
      "93/93 [==============================] - 0s 1ms/step\n",
      "train score [1.2389913461139463, 0.66725798584124307] test score [3.5280482307557137, 0.44086022594923613]\n",
      "10\n",
      "{'conv_filt': 51, 'dropout_1': 0.716597758277566, 'dense_units': 28, 'dropout_2': 0.12421932398207103, 'l2_coef': 0.00027808664726395932}\n",
      "93/93 [==============================] - 0s 1ms/step\n",
      "train score [0.40689864409525744, 0.8705017677703244] test score [0.690563765104099, 0.78494624296824134]\n",
      "11\n",
      "{'conv_filt': 5, 'dropout_1': 0.05114695345185871, 'dense_units': 9, 'dropout_2': 0.5245153638191717, 'l2_coef': 0.0045844430770202674}\n",
      "93/93 [==============================] - 0s 1ms/step\n",
      "train score [1.3146558700028375, 0.53725292038567107] test score [0.86942960498153521, 0.70967742063665906]\n",
      "12\n",
      "{'conv_filt': 119, 'dropout_1': 0.0796082249226604, 'dense_units': 25, 'dropout_2': 0.5515585998013104, 'l2_coef': 0.0066103927846900895}\n",
      "93/93 [==============================] - 0s 1ms/step\n",
      "train score [2.2492008392302081, 0.15129245128492022] test score [2.1617220781182729, 0.20430108087678109]\n",
      "13\n",
      "{'conv_filt': 4, 'dropout_1': 0.33272645944860857, 'dense_units': 13, 'dropout_2': 0.4962093581825596, 'l2_coef': 0.067983863358177271}\n",
      "93/93 [==============================] - 0s 1ms/step\n",
      "train score [1.3752481765814741, 0.57932083650071553] test score [0.96029134014601347, 0.81720429594798749]\n",
      "14\n",
      "{'conv_filt': 116, 'dropout_1': 0.9281714485157706, 'dense_units': 23, 'dropout_2': 0.2796465710066446, 'l2_coef': 0.00045982005117164748}\n",
      "93/93 [==============================] - 0s 1ms/step\n",
      "train score [0.89002187093894491, 0.70299037204166992] test score [0.60380340039089164, 0.78494623015003817]\n",
      "15\n",
      "{'conv_filt': 12, 'dropout_1': 0.31786857660654333, 'dense_units': 16, 'dropout_2': 0.4928717317587772, 'l2_coef': 0.050474082675215554}\n",
      "93/93 [==============================] - 0s 1ms/step\n",
      "train score [1.2136885582101689, 0.62189559489337554] test score [0.87398762480225611, 0.78494622374093659]\n",
      "16\n",
      "{'conv_filt': 33, 'dropout_1': 0.6134276787130903, 'dense_units': 15, 'dropout_2': 0.8369252210365538, 'l2_coef': 0.0031280575505704617}\n",
      "93/93 [==============================] - 0s 1ms/step\n",
      "train score [2.270629372260804, 0.1457171848641394] test score [2.1565371841512699, 0.25806452333927155]\n",
      "17\n",
      "{'conv_filt': 25, 'dropout_1': 0.3966450291657524, 'dense_units': 10, 'dropout_2': 0.04955143014164676, 'l2_coef': 0.03786720928327815}\n",
      "93/93 [==============================] - 0s 1ms/step\n",
      "train score [0.60933909737030623, 0.88367966850638935] test score [0.86620486295351418, 0.75268817396574128]\n",
      "18\n",
      "{'conv_filt': 49, 'dropout_1': 0.8193285531531458, 'dense_units': 18, 'dropout_2': 0.6684833727663013, 'l2_coef': 0.0027105722007297922}\n",
      "93/93 [==============================] - 0s 1ms/step\n",
      "train score [1.5527504088609156, 0.49239737268214412] test score [0.74325482210805338, 0.81720430235708919]\n",
      "19\n",
      "{'conv_filt': 5, 'dropout_1': 0.8867504937366161, 'dense_units': 16, 'dropout_2': 0.40251367966138607, 'l2_coef': 0.070528127370164354}\n",
      "93/93 [==============================] - 0s 1ms/step\n",
      "train score [1.7353937070622278, 0.43715155275715106] test score [1.4141834775606792, 0.63440860471417826]\n",
      "0\n",
      "{'conv_filt': 74, 'dropout_1': 0.1283867670524127, 'dense_units': 21, 'dropout_2': 0.28939148619834676, 'l2_coef': 0.00015860739446824196}\n",
      "93/93 [==============================] - 0s 772us/step\n",
      "train score [0.40142407130726954, 0.87403200826019622] test score [1.0175225093800535, 0.59139785330782657]\n",
      "1\n",
      "{'conv_filt': 45, 'dropout_1': 0.6092407208822763, 'dense_units': 25, 'dropout_2': 0.7218078722278848, 'l2_coef': 0.016152420456752775}\n",
      "93/93 [==============================] - 0s 825us/step\n",
      "train score [2.2993657128615177, 0.109963861641714] test score [2.3221691193119174, 0.09677419394895595]\n",
      "2\n",
      "{'conv_filt': 64, 'dropout_1': 0.5178036590823258, 'dense_units': 8, 'dropout_2': 0.35677259646938175, 'l2_coef': 0.0041340639504925504}\n",
      "93/93 [==============================] - 0s 804us/step\n",
      "train score [1.3347117092477703, 0.52994321115126486] test score [1.1022186022932812, 0.70967742255938948]\n",
      "3\n",
      "{'conv_filt': 54, 'dropout_1': 0.8743893946872684, 'dense_units': 13, 'dropout_2': 0.6592100138710475, 'l2_coef': 0.0011645683780447001}\n",
      "93/93 [==============================] - 0s 772us/step\n",
      "train score [1.7186039868986478, 0.38332472896231284] test score [1.3484023219795638, 0.56989247696374057]\n",
      "4\n",
      "{'conv_filt': 73, 'dropout_1': 0.3962131410670232, 'dense_units': 23, 'dropout_2': 0.8983485119490937, 'l2_coef': 0.0043197390604695629}\n",
      "93/93 [==============================] - 0s 890us/step\n",
      "train score [2.3044163945660374, 0.10480123902942695] test score [2.3162056835748817, 0.07526881760486992]\n",
      "5\n",
      "{'conv_filt': 32, 'dropout_1': 0.04325091935926739, 'dense_units': 17, 'dropout_2': 0.5501077459940175, 'l2_coef': 0.010337085764088485}\n",
      "93/93 [==============================] - 0s 858us/step\n",
      "train score [1.8941777622693583, 0.38977800722767164] test score [1.3584915950734129, 0.52688172139147271]\n",
      "6\n",
      "{'conv_filt': 67, 'dropout_1': 0.596203194677863, 'dense_units': 25, 'dropout_2': 0.523777754984267, 'l2_coef': 0.00019075534126205353}\n",
      "93/93 [==============================] - 0s 815us/step\n",
      "train score [0.75348978028447589, 0.73567372225090344] test score [0.50280135100887668, 0.83870967870117519]\n",
      "7\n",
      "{'conv_filt': 30, 'dropout_1': 0.2574379270526742, 'dense_units': 35, 'dropout_2': 0.37619571727592127, 'l2_coef': 0.00061969000477511064}\n"
     ]
    },
    {
     "name": "stdout",
     "output_type": "stream",
     "text": [
      "93/93 [==============================] - 0s 847us/step\n",
      "train score [0.41606745275894297, 0.90397521941146097] test score [1.014718928644734, 0.70967742127756916]\n",
      "8\n",
      "{'conv_filt': 86, 'dropout_1': 0.2334498951610443, 'dense_units': 34, 'dropout_2': 0.3118982317634911, 'l2_coef': 0.0028123638066972103}\n",
      "93/93 [==============================] - 0s 825us/step\n",
      "train score [0.74231614598838025, 0.82447083118224063] test score [0.84089558483451921, 0.77419355030982728]\n",
      "9\n",
      "{'conv_filt': 103, 'dropout_1': 0.5441965951687223, 'dense_units': 16, 'dropout_2': 0.1820169365195693, 'l2_coef': 0.036623067803837318}\n",
      "93/93 [==============================] - 0s 901us/step\n",
      "train score [2.2988642853563079, 0.11228704181724317] test score [2.3203684232568227, 0.09677419394895595]\n",
      "10\n",
      "{'conv_filt': 17, 'dropout_1': 0.28333456844309346, 'dense_units': 8, 'dropout_2': 0.5998422716035572, 'l2_coef': 0.013289011850598652}\n",
      "93/93 [==============================] - 0s 858us/step\n",
      "train score [1.6550479937165929, 0.40965410428497678] test score [1.2748670834366993, 0.64516129064303573]\n",
      "11\n",
      "{'conv_filt': 103, 'dropout_1': 0.46101720740970986, 'dense_units': 26, 'dropout_2': 0.6581684568193039, 'l2_coef': 0.00035822759963565002}\n",
      "93/93 [==============================] - 0s 890us/step\n",
      "train score [1.136200552411035, 0.60789881259679912] test score [0.71741090730954238, 0.7634408634196046]\n",
      "12\n",
      "{'conv_filt': 4, 'dropout_1': 0.7823080084641942, 'dense_units': 17, 'dropout_2': 0.08620544628569538, 'l2_coef': 0.00062908005009860947}\n",
      "93/93 [==============================] - 0s 836us/step\n",
      "train score [0.995255358559481, 0.66675271037687145] test score [0.700796301005989, 0.78494623848187028]\n",
      "13\n",
      "{'conv_filt': 40, 'dropout_1': 0.057580832547034166, 'dense_units': 21, 'dropout_2': 0.7978704517087235, 'l2_coef': 0.0066426518012506078}\n",
      "93/93 [==============================] - 0s 869us/step\n",
      "train score [2.2993534650147791, 0.10970573051109964] test score [2.3200622194556781, 0.09677419394895595]\n",
      "14\n",
      "{'conv_filt': 108, 'dropout_1': 0.8126617826204923, 'dense_units': 17, 'dropout_2': 0.03360527628151533, 'l2_coef': 0.0079912332784796061}\n",
      "93/93 [==============================] - 0s 954us/step\n",
      "train score [0.83779885486022188, 0.7903975219411461] test score [0.84122834282536663, 0.81720430299799929]\n",
      "15\n",
      "{'conv_filt': 123, 'dropout_1': 0.14543112639537437, 'dense_units': 23, 'dropout_2': 0.9425294879106787, 'l2_coef': 0.020484764256269848}\n",
      "93/93 [==============================] - 0s 922us/step\n",
      "train score [2.2988859552295784, 0.11022199277232834] test score [2.3211703197930449, 0.09677419394895595]\n",
      "16\n",
      "{'conv_filt': 48, 'dropout_1': 0.059042819017668835, 'dense_units': 9, 'dropout_2': 0.20926746465217871, 'l2_coef': 0.0034228248012543303}\n",
      "93/93 [==============================] - 0s 879us/step\n",
      "train score [0.75902454623116866, 0.80846670108415075] test score [0.83358153732874063, 0.7419354877164287]\n",
      "17\n",
      "{'conv_filt': 7, 'dropout_1': 0.5307340820688771, 'dense_units': 18, 'dropout_2': 0.8962567680043033, 'l2_coef': 0.0015462482158230594}\n",
      "93/93 [==============================] - 0s 858us/step\n",
      "train score [1.9871593944547592, 0.27774909654104285] test score [1.3856940602743497, 0.74193548643460838]\n",
      "18\n",
      "{'conv_filt': 4, 'dropout_1': 0.7543776592047564, 'dense_units': 23, 'dropout_2': 0.12568564314729813, 'l2_coef': 0.0025264457330542588}\n",
      "93/93 [==============================] - 0s 836us/step\n",
      "train score [1.0158353152275701, 0.69204956117707794] test score [0.65530522023477866, 0.81720430299799929]\n",
      "19\n",
      "{'conv_filt': 122, 'dropout_1': 0.4747484858018872, 'dense_units': 31, 'dropout_2': 0.3255439787897305, 'l2_coef': 0.0075722911199655523}\n",
      "93/93 [==============================] - 0s 879us/step\n",
      "train score [1.4015115079040619, 0.56633970056788852] test score [1.232862607125313, 0.65591398105826426]\n",
      "0\n",
      "{'conv_filt': 14, 'dropout_1': 0.22884692383775762, 'dense_units': 13, 'dropout_2': 0.9171107476051211, 'l2_coef': 0.024628278575896868}\n",
      "93/93 [==============================] - 0s 536us/step\n",
      "train score [2.2959592838415364, 0.1182240579252275] test score [2.3221913127488989, 0.096774193388159555]\n",
      "1\n",
      "{'conv_filt': 69, 'dropout_1': 0.3666763336636685, 'dense_units': 15, 'dropout_2': 0.24977780587761367, 'l2_coef': 0.010695521480429787}\n",
      "93/93 [==============================] - 0s 461us/step\n",
      "train score [2.1566429784387795, 0.1830149719402171] test score [2.1434275129789948, 0.18279570100768919]\n",
      "2\n",
      "{'conv_filt': 80, 'dropout_1': 0.8504954462025599, 'dense_units': 19, 'dropout_2': 0.17641031030481047, 'l2_coef': 0.00010971877590994973}\n",
      "93/93 [==============================] - 0s 493us/step\n",
      "train score [0.60236824106542364, 0.79814145567494688] test score [0.74498714618785411, 0.74193547489822553]\n",
      "3\n",
      "{'conv_filt': 98, 'dropout_1': 0.2203394794685971, 'dense_units': 14, 'dropout_2': 0.5425504205525203, 'l2_coef': 0.00010427332053712407}\n",
      "93/93 [==============================] - 0s 483us/step\n",
      "train score [1.0170410624409558, 0.60970573061880029] test score [0.78155373373339254, 0.7096774161502879]\n",
      "4\n",
      "{'conv_filt': 91, 'dropout_1': 0.4557301821090285, 'dense_units': 21, 'dropout_2': 0.13620417349534486, 'l2_coef': 0.096406478976340401}\n",
      "93/93 [==============================] - 0s 482us/step\n",
      "train score [2.2989014172344771, 0.11151264851579176] test score [2.3213717783651044, 0.096774193388159555]\n",
      "5\n",
      "{'conv_filt': 115, 'dropout_1': 0.848322276096096, 'dense_units': 14, 'dropout_2': 0.7765183480372099, 'l2_coef': 0.00032835012088812767}\n",
      "93/93 [==============================] - 0s 461us/step\n",
      "train score [1.9177422205935326, 0.30123902970389355] test score [1.6496266985452304, 0.4516129038667166]\n",
      "6\n",
      "{'conv_filt': 127, 'dropout_1': 0.8625611688517759, 'dense_units': 21, 'dropout_2': 0.3755395955926836, 'l2_coef': 0.0020738540703519335}\n",
      "93/93 [==============================] - 0s 493us/step\n",
      "train score [1.2707702091937836, 0.61590087809203276] test score [1.0844556464943835, 0.70967741743210822]\n",
      "7\n",
      "{'conv_filt': 52, 'dropout_1': 0.07346886515449735, 'dense_units': 16, 'dropout_2': 0.3305576796390711, 'l2_coef': 0.0054261402809184347}\n",
      "93/93 [==============================] - 0s 461us/step\n",
      "train score [1.3026260853613782, 0.63861641713990702] test score [1.1671783360101844, 0.68817204108802221]\n",
      "8\n",
      "{'conv_filt': 79, 'dropout_1': 0.2245385871774943, 'dense_units': 14, 'dropout_2': 0.10385350776189806, 'l2_coef': 0.0004305040693232783}\n",
      "93/93 [==============================] - 0s 461us/step\n",
      "train score [0.37024368288040654, 0.90526587484913135] test score [1.8533334911510508, 0.50537634472693171]\n",
      "9\n",
      "{'conv_filt': 85, 'dropout_1': 0.5643617723897765, 'dense_units': 21, 'dropout_2': 0.9745268522750309, 'l2_coef': 0.00036717342979041451}\n",
      "93/93 [==============================] - 0s 568us/step\n",
      "train score [2.2993574131378267, 0.10996386180326505] test score [2.3212968380220476, 0.096774193388159555]\n",
      "10\n",
      "{'conv_filt': 116, 'dropout_1': 0.3681112845657092, 'dense_units': 16, 'dropout_2': 0.46817819100446756, 'l2_coef': 0.00026441070214497722}\n",
      "93/93 [==============================] - 0s 482us/step\n",
      "train score [0.85940579101481751, 0.692307692661566] test score [0.77138770716164706, 0.69892473502825669]\n",
      "11\n",
      "{'conv_filt': 47, 'dropout_1': 0.8957069423038012, 'dense_units': 22, 'dropout_2': 0.14512818728486032, 'l2_coef': 0.00063153538441731267}\n",
      "93/93 [==============================] - 0s 472us/step\n",
      "train score [0.74256181007632904, 0.78213732560762872] test score [0.52378221609259168, 0.8172043036389095]\n",
      "12\n",
      "{'conv_filt': 82, 'dropout_1': 0.34708622414889523, 'dense_units': 23, 'dropout_2': 0.1698032928484864, 'l2_coef': 0.026951779788669358}\n",
      "93/93 [==============================] - 0s 568us/step\n",
      "train score [2.2991091550227347, 0.1099638616570998] test score [2.322396478345317, 0.096774193388159555]\n",
      "13\n",
      "{'conv_filt': 116, 'dropout_1': 0.9759662260706199, 'dense_units': 12, 'dropout_2': 0.5027432472847709, 'l2_coef': 0.00023739123125100675}\n",
      "93/93 [==============================] - 0s 493us/step\n",
      "train score [1.6705294731171647, 0.38900361400507255] test score [1.4035448989560526, 0.51612902584896292]\n",
      "14\n",
      "{'conv_filt': 78, 'dropout_1': 0.008549047760510575, 'dense_units': 32, 'dropout_2': 0.8611735382024948, 'l2_coef': 0.039491407099438346}\n"
     ]
    },
    {
     "name": "stdout",
     "output_type": "stream",
     "text": [
      "93/93 [==============================] - 0s 504us/step\n",
      "train score [2.2991427482866911, 0.11073825519895455] test score [2.3214244842529297, 0.096774193388159555]\n",
      "15\n",
      "{'conv_filt': 66, 'dropout_1': 0.3382902217418693, 'dense_units': 27, 'dropout_2': 0.9848491149402895, 'l2_coef': 0.0016461604455988155}\n",
      "93/93 [==============================] - 0s 536us/step\n",
      "train score [2.2986624905542423, 0.10918946829218193] test score [2.3213479544526789, 0.096774193388159555]\n",
      "16\n",
      "{'conv_filt': 58, 'dropout_1': 0.33397401364231694, 'dense_units': 10, 'dropout_2': 0.8034642485993253, 'l2_coef': 0.0012969706759797018}\n",
      "93/93 [==============================] - 0s 557us/step\n",
      "train score [2.2991951259067518, 0.10970573061880035] test score [2.3215769516524447, 0.096774193388159555]\n",
      "17\n",
      "{'conv_filt': 41, 'dropout_1': 0.4305528017301362, 'dense_units': 31, 'dropout_2': 0.6722635672180086, 'l2_coef': 0.011576802304063627}\n",
      "93/93 [==============================] - 0s 547us/step\n",
      "train score [2.2989770019552913, 0.11048012398756467] test score [2.3213389253103607, 0.096774193388159555]\n",
      "18\n",
      "{'conv_filt': 79, 'dropout_1': 0.13603131511183053, 'dense_units': 18, 'dropout_2': 0.19232602752391637, 'l2_coef': 0.0028366280276113779}\n",
      "93/93 [==============================] - 0s 611us/step\n",
      "train score [0.77787189257163392, 0.82808466685698334] test score [1.29894567689588, 0.68817204108802221]\n",
      "19\n",
      "{'conv_filt': 38, 'dropout_1': 0.7610096720207985, 'dense_units': 20, 'dropout_2': 0.46351357211546973, 'l2_coef': 0.00018900355579411424}\n",
      "93/93 [==============================] - 0s 547us/step\n",
      "train score [0.88363559998737273, 0.70753742882930926] test score [0.42261672917232718, 0.87096773744911271]\n"
     ]
    }
   ],
   "source": [
    "np.random.seed(42) \n",
    "res = []\n",
    "weights = []\n",
    "beta = 2\n",
    "for batch in batch_sizes:\n",
    "    for num in range(num_experiments):\n",
    "        print(num)    \n",
    "        params = dict(conv_filt=np.random.randint(filt_b[0], filt_b[1]), \\\n",
    "                      dropout_1=(drop_1_b[1]-drop_1_b[0])*np.random.rand()+drop_1_b[0],\\\n",
    "                      dense_units=np.random.randint(unit_b[0], unit_b[1]),\\\n",
    "                      dropout_2=(drop_2_b[1]-drop_2_b[0])*np.random.rand()+drop_2_b[0],\\\n",
    "                      l2_coef=10**((b-a)*np.random.rand()+a))\n",
    "        print(params)\n",
    "        model = create_model(params)\n",
    "        history = datagen(model, batch_size=batch, epochs=epochs, verbose=0, nb_train_samples=4000, nb_validation_samples=800)\n",
    "        score = model.evaluate(X_test/255., y_test, batch_size=batch)\n",
    "        params['batch']=batch\n",
    "        params['score']=score\n",
    "        params['score_train']=[history.history['loss'][-1], history.history['acc'][-1]]\n",
    "        params['f1_score'] = (1.+beta**2) * (score[1] * history.history['acc'][-1])/(beta**2*score[1] + \\\n",
    "                                                                                     history.history['acc'][-1])\n",
    "        res.append(params)\n",
    "        print('train score', params['score_train'], 'test score', score)         "
   ]
  },
  {
   "cell_type": "markdown",
   "metadata": {},
   "source": [
    "#### Second iteration"
   ]
  },
  {
   "cell_type": "markdown",
   "metadata": {},
   "source": [
    "### Select top N models and do new tuning\n",
    "\n",
    "Choose N top models for parameters bounds reducing"
   ]
  },
  {
   "cell_type": "markdown",
   "metadata": {},
   "source": [
    "### How top models will be selected\n",
    "\n",
    "Because all processes is automatic we will check \n",
    "$ F_\\beta = (1+\\beta^2) * \\frac{accuracy_{test} * \\frac{accuracy_{test}}{accuracy_{train}}}{\\beta^2 * accuracy_{test} + \\frac{accuracy_{test}}{accuracy_{train}}}, $\n",
    "where $ \\beta = 2, $\n",
    "beacuse we preffer $accuracy_{test}$\n",
    "\n",
    "It provides us to select high test accuracy and non overfitted model"
   ]
  },
  {
   "cell_type": "code",
   "execution_count": null,
   "metadata": {},
   "outputs": [
    {
     "name": "stdout",
     "output_type": "stream",
     "text": [
      "{'conv_filt': [96, 74, 69], 'dropout_1': [0.6435756803482191, 0.37539457718168873, 0.47459860563811973], 'dense_units': [31, 32, 28], 'dropout_2': [0.14375970509764996, 0.1077160546046062, 0.082768131879926488], 'l2_coef': [0.00022329032842384659, 0.0033534822653007905, 0.0016625590975724775], 'batch': [10, 10, 10], 'score': [[0.54213241984446847, 0.86021504607251897], [0.85507870858074519, 0.80645161162140544], [0.85693052699488981, 0.77419354902800697]]}\n",
      "[10]\n",
      "0\n"
     ]
    }
   ],
   "source": [
    "N = 3 \n",
    "scorelist = [res_i['f1_score'] for res_i in res]\n",
    "scorelist_sorted = sorted(scorelist, reverse=True)\n",
    "toplist_ind = [scorelist.index(scorelist_sorted[i]) for i in range(N)]\n",
    "toplist = [res[i] for i in toplist_ind]\n",
    "params_full = dict(conv_filt=[], dropout_1=[], dense_units=[],\\\n",
    "                    dropout_2=[], l2_coef=[], batch=[], score=[])\n",
    "for key in params_full.keys():\n",
    "    for i in range(N):\n",
    "        params_full[key].append(toplist[i][key])\n",
    "print(params_full)        \n",
    "#creating new params bounds\n",
    "filt_b = [np.min(params_full['conv_filt']), np.max(params_full['conv_filt'])]\n",
    "unit_b = [np.min(params_full['dense_units']), np.max(params_full['dense_units'])]\n",
    "drop_1_b = [np.min(params_full['dropout_1']), np.max(params_full['dropout_1'])]\n",
    "drop_2_b = [np.min(params_full['dropout_2']), np.max(params_full['dropout_2'])]\n",
    "batch_sizes = np.unique(params_full['batch'])\n",
    "print(batch_sizes)\n",
    "file = open('history.txt', mode='a') #here will be model history\n",
    "#run tunning\n",
    "num_experiments = 30 #for each batch\n",
    "res = []\n",
    "weights = []\n",
    "best_f1_score = 0.0\n",
    "beta = 2\n",
    "for batch in batch_sizes:\n",
    "    for num in range(num_experiments):\n",
    "        print(num)    \n",
    "        params_top = dict(conv_filt=np.random.randint(filt_b[0], filt_b[1]), \\\n",
    "                          dropout_1=(drop_1_b[1]-drop_1_b[0])*np.random.rand()+drop_1_b[0],\\\n",
    "                          dense_units=np.random.randint(unit_b[0], unit_b[1]),\\\n",
    "                          dropout_2=(drop_2_b[1]-drop_2_b[0])*np.random.rand()+drop_2_b[0],\\\n",
    "                          l2_coef=10**((b-a)*np.random.rand()+a))\n",
    "        model = create_model(params_top)\n",
    "        history = datagen(model, batch_size=batch, epochs=epochs, verbose=0)\n",
    "        score = model.evaluate(X_test/255., y_test, batch_size=batch)\n",
    "        params_top['batch']=batch\n",
    "        params_top['score']=score\n",
    "        params_top['f1_score'] = (1.+beta**2) * (score[1] * history.history['acc'][-1])/(beta**2*score[1] + \\\n",
    "                                                                                     history.history['acc'][-1])\n",
    "        if params_top['f1_score'] > best_f1_score:\n",
    "            best_f1_score = params_top['f1_score']\n",
    "            np.savetxt('acc.txt', history.history['acc'])\n",
    "            np.savetxt('loss.txt', history.history['loss'])\n",
    "            np.savetxt('val_acc.txt', history.history['val_acc'])\n",
    "            np.savetxt('val_loss.txt', history.history['val_loss'])\n",
    "            model.save('model_topN_'+str(batch)+'_'+str(num))\n",
    "            print('cur_best_score = ', score, ' cur_best_f1_score = ', best_f1_score)\n",
    "        res.append(params_top)\n",
    "        print('test score', score)\n",
    "        "
   ]
  },
  {
   "cell_type": "markdown",
   "metadata": {},
   "source": [
    "### Load history for visualization"
   ]
  },
  {
   "cell_type": "code",
   "execution_count": null,
   "metadata": {},
   "outputs": [],
   "source": [
    "hist = {'acc': np.loadtxt('acc.txt'), 'loss':np.loadtxt('loss.txt'), 'val_acc': np.loadtxt('val_acc.txt'), \\\n",
    "        'val_loss':np.loadtxt('val_loss.txt')}\n",
    "history = hist"
   ]
  },
  {
   "cell_type": "code",
   "execution_count": null,
   "metadata": {
    "scrolled": true
   },
   "outputs": [],
   "source": [
    "# Plot training & validation accuracy values\n",
    "plt.figure(figsize=(10,4))\n",
    "plt.plot(history['acc'])\n",
    "plt.plot(history['val_acc'])\n",
    "plt.title('Model accuracy')\n",
    "plt.ylabel('Accuracy')\n",
    "plt.xlabel('Epoch')\n",
    "plt.legend(['Train', 'Test'], loc='upper left')\n",
    "plt.show()\n",
    "\n",
    "# Plot training & validation loss values\n",
    "plt.figure(figsize=(10,4))\n",
    "plt.plot(history['loss'])\n",
    "plt.plot(history['val_loss'])\n",
    "plt.title('Model loss')\n",
    "plt.ylabel('Loss')\n",
    "plt.xlabel('Epoch')\n",
    "plt.legend(['Train', 'Test'], loc='upper left')\n",
    "plt.show()\n"
   ]
  },
  {
   "cell_type": "code",
   "execution_count": null,
   "metadata": {
    "collapsed": true
   },
   "outputs": [],
   "source": []
  }
 ],
 "metadata": {
  "kernelspec": {
   "display_name": "Python 3",
   "language": "python",
   "name": "python3"
  },
  "language_info": {
   "codemirror_mode": {
    "name": "ipython",
    "version": 3
   },
   "file_extension": ".py",
   "mimetype": "text/x-python",
   "name": "python",
   "nbconvert_exporter": "python",
   "pygments_lexer": "ipython3",
   "version": "3.6.1"
  }
 },
 "nbformat": 4,
 "nbformat_minor": 2
}
